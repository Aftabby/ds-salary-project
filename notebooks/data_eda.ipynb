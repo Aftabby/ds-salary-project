{
 "cells": [
  {
   "cell_type": "code",
   "execution_count": 1,
   "id": "cb5981a6-54c5-4e32-ba86-cad9d7ddc42b",
   "metadata": {},
   "outputs": [],
   "source": [
    "import pandas as pd\n",
    "import matplotlib.pyplot as plt\n",
    "import seaborn as sns"
   ]
  },
  {
   "cell_type": "code",
   "execution_count": null,
   "id": "03c144e4-4cf8-4445-b5d6-26f4ee4f534a",
   "metadata": {},
   "outputs": [],
   "source": [
    "df = pd.read_csv(\"./../data/processed/salary_data_cleaned.csv\")"
   ]
  }
 ],
 "metadata": {
  "kernelspec": {
   "display_name": "Python 3 (ipykernel)",
   "language": "python",
   "name": "python3"
  },
  "language_info": {
   "codemirror_mode": {
    "name": "ipython",
    "version": 3
   },
   "file_extension": ".py",
   "mimetype": "text/x-python",
   "name": "python",
   "nbconvert_exporter": "python",
   "pygments_lexer": "ipython3",
   "version": "3.12.9"
  }
 },
 "nbformat": 4,
 "nbformat_minor": 5
}
